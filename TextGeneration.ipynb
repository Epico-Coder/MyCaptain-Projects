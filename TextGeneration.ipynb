{
 "cells": [
  {
   "cell_type": "code",
   "execution_count": 13,
   "id": "57c45e48",
   "metadata": {},
   "outputs": [
    {
     "name": "stdout",
     "output_type": "stream",
     "text": [
      "ERROR! Session/line number was not unique in database. History logging moved to new session 113\n"
     ]
    }
   ],
   "source": [
    "import numpy as np\n",
    "import sys\n",
    "from nltk.tokenize import RegexpTokenizer\n",
    "from nltk.corpus import stopwords\n",
    "from tensorflow.keras import *\n",
    "from tensorflow.keras.layers import LSTM, Dropout, Dense\n",
    "from tensorflow.keras.models import Sequential\n",
    "from tensorflow.keras.callbacks import *\n",
    "import tensorflow as tf"
   ]
  },
  {
   "cell_type": "code",
   "execution_count": 4,
   "id": "47f2d0ed",
   "metadata": {
    "scrolled": true
   },
   "outputs": [],
   "source": [
    "with open('C:/Users/Aaryan/Downloads/frankenstein.txt', 'r', encoding='mbcs') as f:\n",
    "    data = f.read()"
   ]
  },
  {
   "cell_type": "code",
   "execution_count": 5,
   "id": "d77281ab",
   "metadata": {},
   "outputs": [],
   "source": [
    "def tokenize_words(string):\n",
    "    string = string.lower()\n",
    "    tokenizer = RegexpTokenizer(r'\\w+')\n",
    "    tokens = tokenizer.tokenize(string)\n",
    "    filtered = filter(lambda token: token not in  stopwords.words('english'), tokens)\n",
    "    return \"\".join(filtered)\n",
    "\n",
    "\n",
    "processed_inputs = tokenize_words(data)"
   ]
  },
  {
   "cell_type": "code",
   "execution_count": 6,
   "id": "74a87361",
   "metadata": {},
   "outputs": [],
   "source": [
    "chars = sorted(list(set(processed_inputs)))\n",
    "char_to_num = dict((c, i) for i, c in enumerate(chars))"
   ]
  },
  {
   "cell_type": "code",
   "execution_count": 7,
   "id": "0987c810",
   "metadata": {},
   "outputs": [],
   "source": [
    "input_len = len(processed_inputs)\n",
    "vocab_len = len(chars)"
   ]
  },
  {
   "cell_type": "code",
   "execution_count": 8,
   "id": "77d69d64",
   "metadata": {},
   "outputs": [],
   "source": [
    "seq_len = 100\n",
    "X_data = []\n",
    "y_data = []\n",
    "\n",
    "for i in range(0, input_len - seq_len, 1):\n",
    "    in_seq = processed_inputs[i:i + seq_len]\n",
    "    out_seq = processed_inputs[i + seq_len]\n",
    "    X_data.append([char_to_num[char] for char in in_seq])\n",
    "    y_data.append([char_to_num[out_seq]])\n",
    "    \n",
    "n_patterns = len(X_data)"
   ]
  },
  {
   "cell_type": "code",
   "execution_count": 9,
   "id": "e0efe197",
   "metadata": {},
   "outputs": [],
   "source": [
    "X = np.reshape(X_data, (n_patterns, seq_len, 1))\n",
    "X = X/float(vocab_len)\n",
    "\n",
    "y = utils.to_categorical(y_data)"
   ]
  },
  {
   "cell_type": "code",
   "execution_count": 10,
   "id": "e8f8c729",
   "metadata": {},
   "outputs": [],
   "source": [
    "model = Sequential([\n",
    "    LSTM(256, input_shape=(X.shape[1], X.shape[2]), return_sequences=True),\n",
    "    Dropout(0.2),\n",
    "    LSTM(256, return_sequences=True),\n",
    "    Dropout(0.2),\n",
    "    LSTM(128),\n",
    "    Dropout(0.2),\n",
    "    Dense(y.shape[1], activation='softmax')\n",
    "])\n",
    "\n",
    "model.compile(optimizer='adam', loss='categorical_crossentropy')"
   ]
  },
  {
   "cell_type": "code",
   "execution_count": 11,
   "id": "82ce0daf",
   "metadata": {},
   "outputs": [
    {
     "name": "stdout",
     "output_type": "stream",
     "text": [
      "Train on 223168 samples\n",
      "Epoch 1/20\n",
      "223168/223168 [==============================] - 457s 2ms/sample - loss: 2.9533\n",
      "Epoch 2/20\n",
      "223168/223168 [==============================] - 780s 3ms/sample - loss: 2.9327\n",
      "Epoch 3/20\n",
      "223168/223168 [==============================] - 724s 3ms/sample - loss: 2.9294\n",
      "Epoch 4/20\n",
      "223168/223168 [==============================] - 618s 3ms/sample - loss: 2.9002\n",
      "Epoch 5/20\n",
      "223168/223168 [==============================] - 480s 2ms/sample - loss: 2.8432\n",
      "Epoch 6/20\n",
      "223168/223168 [==============================] - 438s 2ms/sample - loss: 2.7730\n",
      "Epoch 7/20\n",
      "223168/223168 [==============================] - 411s 2ms/sample - loss: 2.6981\n",
      "Epoch 8/20\n",
      "223168/223168 [==============================] - 315s 1ms/sample - loss: 2.6267\n",
      "Epoch 9/20\n",
      "223168/223168 [==============================] - 328s 1ms/sample - loss: 2.5622\n",
      "Epoch 10/20\n",
      "223168/223168 [==============================] - 326s 1ms/sample - loss: 2.5024\n",
      "Epoch 11/20\n",
      "223168/223168 [==============================] - 462s 2ms/sample - loss: 2.4506\n",
      "Epoch 12/20\n",
      "223168/223168 [==============================] - 689s 3ms/sample - loss: 2.4039\n",
      "Epoch 13/20\n",
      "223168/223168 [==============================] - 730s 3ms/sample - loss: 2.3577\n",
      "Epoch 14/20\n",
      "223168/223168 [==============================] - 729s 3ms/sample - loss: 2.3205\n",
      "Epoch 15/20\n",
      "223168/223168 [==============================] - 699s 3ms/sample - loss: 2.2864\n",
      "Epoch 16/20\n",
      "223168/223168 [==============================] - 722s 3ms/sample - loss: 2.2543\n",
      "Epoch 17/20\n",
      "223168/223168 [==============================] - 707s 3ms/sample - loss: 2.2264\n",
      "Epoch 18/20\n",
      "223168/223168 [==============================] - 686s 3ms/sample - loss: 2.2028\n",
      "Epoch 19/20\n",
      "223168/223168 [==============================] - 668s 3ms/sample - loss: 2.1791\n",
      "Epoch 20/20\n",
      "223168/223168 [==============================] - 691s 3ms/sample - loss: 2.1548\n"
     ]
    },
    {
     "data": {
      "text/plain": [
       "<tensorflow.python.keras.callbacks.History at 0x2308db70fd0>"
      ]
     },
     "execution_count": 11,
     "metadata": {},
     "output_type": "execute_result"
    }
   ],
   "source": [
    "model.fit(X, y, epochs=20, batch_size=256)"
   ]
  },
  {
   "cell_type": "code",
   "execution_count": 27,
   "id": "c1ade91c",
   "metadata": {},
   "outputs": [
    {
     "name": "stdout",
     "output_type": "stream",
     "text": [
      "\" rydeeplyfeltmisfortunedebarredliberaleducationsaidlittlespokereadkindlingeyeanimatedglancerestrained \"\n"
     ]
    }
   ],
   "source": [
    "num_to_char = dict((i, c) for i, c in enumerate(chars))\n",
    "start = np.random.randint(0, len(X_data) - 1)\n",
    "pattern = X_data[start]\n",
    "print(\"\\\"\", ''.join([num_to_char[value] for value in pattern]), \"\\\"\")"
   ]
  },
  {
   "cell_type": "code",
   "execution_count": 29,
   "id": "1f0292dc",
   "metadata": {},
   "outputs": [
    {
     "name": "stdout",
     "output_type": "stream",
     "text": [
      "seatedfeltconsideredseatedfeltconsideredseatedfeltconsideredseatedfeltconsideredseatedfeltconsideredseatedfeltconsideredseatedfeltconsideredseatedfeltconsideredseatedfeltconsideredseatedfeltconsideredseatedfeltconsideredseatedfeltconsideredseatedfeltconsideredseatedfeltconsideredseatedfeltconsideredseatedfeltconsideredseatedfeltconsideredseatedfeltconsideredseatedfeltconsideredseatedfeltconsideredseatedfeltconsideredseatedfeltconsideredseatedfeltconsideredseatedfeltconsideredseatedfeltconsidered"
     ]
    }
   ],
   "source": [
    "for i in range(500):\n",
    "    x = np.reshape(pattern, (1, len(pattern), 1))\n",
    "    x = x / float(vocab_len)\n",
    "    prediction = model.predict(x, verbose=0),\n",
    "    index = np.argmax(prediction)\n",
    "    result = num_to_char[index]\n",
    "    seq_in = [num_to_char[value] for value in pattern]\n",
    "    sys.stdout.write(result)\n",
    "    pattern.append(index)\n",
    "    pattern = pattern[1:len(pattern)]"
   ]
  },
  {
   "cell_type": "code",
   "execution_count": 15,
   "id": "f7194ca2",
   "metadata": {},
   "outputs": [
    {
     "name": "stdout",
     "output_type": "stream",
     "text": [
      "ERROR! Session/line number was not unique in database. History logging moved to new session 118\n",
      "Saved model to disk\n"
     ]
    }
   ],
   "source": [
    "model_json = model.to_json()\n",
    "with open(\"C:/Users/Aaryan/Downloads/model.json\", \"w\") as json_file:\n",
    "    json_file.write(model_json)\n",
    "\n",
    "model.save_weights(\"C:/Users/Aaryan/Downloads/model.h5\")\n",
    "print(\"Saved model to disk\")"
   ]
  }
 ],
 "metadata": {
  "kernelspec": {
   "display_name": "Python 3",
   "language": "python",
   "name": "python3"
  },
  "language_info": {
   "codemirror_mode": {
    "name": "ipython",
    "version": 3
   },
   "file_extension": ".py",
   "mimetype": "text/x-python",
   "name": "python",
   "nbconvert_exporter": "python",
   "pygments_lexer": "ipython3",
   "version": "3.6.13"
  }
 },
 "nbformat": 4,
 "nbformat_minor": 5
}
